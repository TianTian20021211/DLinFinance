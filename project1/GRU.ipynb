{
 "cells": [
  {
   "cell_type": "code",
   "execution_count": 110,
   "id": "a43896ab-8129-4cb3-bd65-26fe14141651",
   "metadata": {},
   "outputs": [],
   "source": [
    "import pickle\n",
    "\n",
    "# 从文件中加载变量\n",
    "with open(\"./data22_plus_amount.pkl\", 'rb') as f:\n",
    "    X_train, X_test, y_train, y_test = pickle.load(f)\n",
    "# 组合训练集和测试集的数据\n",
    "X_train_data = X_train\n",
    "y_train_data = y_train\n",
    "X_test_data = X_test\n",
    "y_test_data = y_test"
   ]
  },
  {
   "cell_type": "code",
   "execution_count": 111,
   "id": "b256a813-ad02-48bc-84fe-601ca9984e3c",
   "metadata": {},
   "outputs": [],
   "source": [
    "import torch\n",
    "from torch.utils.data import Dataset, DataLoader\n",
    "\n",
    "class MyDataset(Dataset):\n",
    "    def __init__(self, X, y):\n",
    "        self.X = torch.tensor(X, dtype=torch.float32)\n",
    "        self.y = torch.tensor(y, dtype=torch.int64)\n",
    "\n",
    "    def __len__(self):\n",
    "        return len(self.X)\n",
    "\n",
    "    def __getitem__(self, idx):\n",
    "        return self.X[idx], self.y[idx]\n",
    "    \n",
    "# 假设MyDataset已定义并能正确读取X, y数据\n",
    "dataset_train = MyDataset(X_train_data, y_train_data)\n",
    "dataset_test = MyDataset(X_test_data, y_test_data)\n",
    "# 创建DataLoader实例\n",
    "batch_size = 128\n",
    "dataloader_train = DataLoader(dataset_train, batch_size=batch_size, shuffle=True)\n",
    "dataloader_test = DataLoader(dataset_test, batch_size=batch_size, shuffle=True)"
   ]
  },
  {
   "cell_type": "code",
   "execution_count": 112,
   "id": "8f6ccf56-4a31-481e-b987-66e8d7fed37b",
   "metadata": {},
   "outputs": [],
   "source": [
    "import torch\n",
    "import torch.nn as nn\n",
    "import torch.nn.functional as F\n",
    "\n",
    "class EnhancedGRUClassifier(nn.Module):\n",
    "    def __init__(self, input_size, hidden_size, num_layers, output_size, bidirectional=True, dropout_rate=0.5):\n",
    "        super(EnhancedGRUClassifier, self).__init__()\n",
    "        self.hidden_size = hidden_size\n",
    "        self.num_layers = num_layers\n",
    "        self.bidirectional = bidirectional\n",
    "        self.gru = nn.GRU(input_size, hidden_size, num_layers, batch_first=True, dropout=dropout_rate, bidirectional=bidirectional)\n",
    "        self.fc_layers = nn.Sequential(\n",
    "            nn.Linear(hidden_size * (2 if bidirectional else 1), hidden_size), # Adjust input size if bidirectional\n",
    "            nn.ReLU(),\n",
    "            nn.Dropout(dropout_rate),\n",
    "            nn.Linear(hidden_size, output_size)\n",
    "        )\n",
    "        self.layer_norm = nn.LayerNorm(hidden_size * (2 if bidirectional else 1))\n",
    "\n",
    "    def forward(self, x):\n",
    "        # Initialize the hidden state for GRU\n",
    "        h0 = torch.zeros(self.num_layers * (2 if self.bidirectional else 1), x.size(0), self.hidden_size).to(x.device)\n",
    "\n",
    "        # GRU forward pass\n",
    "        out, _ = self.gru(x, h0)\n",
    "\n",
    "        # Apply Layer Normalization\n",
    "        out = self.layer_norm(out[:, -1, :])\n",
    "\n",
    "        # Pass through fully connected layers\n",
    "        out = self.fc_layers(out)\n",
    "        return out\n",
    "\n"
   ]
  },
  {
   "cell_type": "code",
   "execution_count": 113,
   "id": "ac686f50-2c66-4aa2-a612-02903ffa1be2",
   "metadata": {},
   "outputs": [],
   "source": [
    "# 定义模型超参数\n",
    "hidden_size = 80\n",
    "num_layers = 3\n",
    "num_epochs = 5\n",
    "dropout_rate = 0.5  # 设置dropout率 \n",
    "learning_rate = 0.0002  # 设置学习率 \n",
    "bidirection = True\n",
    "weight_decay = 0.01"
   ]
  },
  {
   "cell_type": "code",
   "execution_count": 114,
   "id": "6aea3881-0b6d-4a08-b7b9-d7bda2123ab2",
   "metadata": {},
   "outputs": [],
   "source": [
    "input_size = 6\n",
    "output_size = 2"
   ]
  },
  {
   "cell_type": "code",
   "execution_count": 115,
   "id": "c5181c03-95a6-4f36-bb78-ad3f79947c2c",
   "metadata": {},
   "outputs": [],
   "source": [
    "import torch\n",
    "import torch.nn as nn\n",
    "import torch.optim as optim\n",
    "import matplotlib.pyplot as plt\n",
    "\n",
    "# 实例化模型\n",
    "model = EnhancedGRUClassifier(input_size, hidden_size, num_layers, output_size, bidirection, dropout_rate).to('cuda')\n",
    "\n",
    "# 定义损失函数和优化器\n",
    "criterion = nn.CrossEntropyLoss()\n",
    "optimizer = optim.AdamW(model.parameters(), lr=learning_rate, weight_decay=weight_decay)"
   ]
  },
  {
   "cell_type": "code",
   "execution_count": 116,
   "id": "ddf29f72-109d-403a-98e3-e349cb1e49e1",
   "metadata": {},
   "outputs": [],
   "source": [
    "from sklearn.metrics import confusion_matrix, precision_score, recall_score\n",
    "def train():\n",
    "    # 用于记录整个训练过程的损失和准确率\n",
    "    epoch_losses = []\n",
    "    epoch_accuracies = []\n",
    "    # 训练模型 \n",
    "    for epoch in range(num_epochs):\n",
    "        total_loss = 0.0\n",
    "        correct = 0\n",
    "        total = 0\n",
    "        for i, (batch_X, batch_y) in enumerate(dataloader_train):\n",
    "            # Forward pass\n",
    "            batch_X = batch_X.to('cuda')\n",
    "            batch_y = batch_y.to('cuda')\n",
    "            outputs = model(batch_X)\n",
    "            loss = criterion(outputs, batch_y)\n",
    "            \n",
    "            # Backward pass and optimization\n",
    "            optimizer.zero_grad()\n",
    "            loss.backward()\n",
    "            optimizer.step()\n",
    "            \n",
    "            total_loss += loss.item()\n",
    "            _, predicted = torch.max(outputs, 1)\n",
    "            total += batch_y.size(0)\n",
    "            correct += (predicted == batch_y).sum().item()\n",
    "\n",
    "            # 每20个batch报告一次\n",
    "            if (i + 1) % 2000 == 0:\n",
    "                current_loss = total_loss / (i + 1)\n",
    "                current_accuracy = correct / total\n",
    "                print(f'Epoch [{epoch+1}/{num_epochs}], Batch {i+1}, Loss: {current_loss:.6f}, Accuracy: {current_accuracy:.4f}')\n",
    "        \n",
    "        # 计算每个epoch的平均损失和准确率\n",
    "        average_loss = total_loss / len(dataloader_train)\n",
    "        accuracy = correct / total\n",
    "        epoch_losses.append(average_loss)\n",
    "        epoch_accuracies.append(accuracy)\n",
    "        \n",
    "        print(f'Epoch [{epoch+1}/{num_epochs}], Average Loss: {average_loss:.6f}, Accuracy: {accuracy:.4f}')\n",
    "    # 绘制损失和准确率图表\n",
    "    plt.figure(figsize=(12, 5))\n",
    "    plt.subplot(1, 2, 1)\n",
    "    plt.plot(range(1, num_epochs+1), epoch_losses, marker='o')\n",
    "    plt.title('Epoch vs Loss')\n",
    "    plt.xlabel('Epoch')\n",
    "    plt.ylabel('Loss')\n",
    "\n",
    "    plt.subplot(1, 2, 2)\n",
    "    plt.plot(range(1, num_epochs+1), epoch_accuracies, marker='o')\n",
    "    plt.title('Epoch vs Accuracy')\n",
    "    plt.xlabel('Epoch')\n",
    "    plt.ylabel('Accuracy')\n",
    "    plt.show()\n"
   ]
  },
  {
   "cell_type": "code",
   "execution_count": 117,
   "id": "e985b86b-b717-4c46-94a0-0b6f7af31e85",
   "metadata": {},
   "outputs": [],
   "source": [
    "import matplotlib.pyplot as plt\n",
    "import seaborn as sns\n",
    "from sklearn.metrics import confusion_matrix, precision_score, recall_score\n",
    "\n",
    "def test():\n",
    "    total_loss = 0.0\n",
    "    correct = 0\n",
    "    total = 0\n",
    "    all_predictions = []\n",
    "    all_labels = []\n",
    "    # 使用model.eval()将模型切换到评估模式\n",
    "    model.eval()\n",
    "\n",
    "    with torch.no_grad():  # 禁用梯度计算\n",
    "        for i, (batch_X, batch_y) in enumerate(dataloader_test):\n",
    "            batch_X = batch_X.to('cuda')\n",
    "            batch_y = batch_y.to('cuda')\n",
    "            # Forward pass\n",
    "            outputs = model(batch_X)\n",
    "            loss = criterion(outputs, batch_y)\n",
    "            \n",
    "            total_loss += loss.item()\n",
    "            _, predicted = torch.max(outputs, 1)\n",
    "            \n",
    "            all_predictions.extend(predicted.cpu().numpy())\n",
    "            all_labels.extend(batch_y.cpu().numpy())\n",
    "            total += batch_y.size(0)\n",
    "            correct += (predicted == batch_y).sum().item()\n",
    "\n",
    "    # 计算整个测试集的平均损失和准确率\n",
    "    average_loss = total_loss / len(dataloader_test)\n",
    "    accuracy = correct / total\n",
    "    \n",
    "    print(f'Average Loss: {average_loss:.4f}, Accuracy: {accuracy:.4f}')\n",
    "    # 计算混淆矩阵、精确率和召回率\n",
    "    conf_matrix = confusion_matrix(all_labels, all_predictions)\n",
    "    precision = precision_score(all_labels, all_predictions)\n",
    "    recall = recall_score(all_labels, all_predictions)\n",
    "\n",
    "    print(\"Confusion Matrix:\")\n",
    "    print(conf_matrix)\n",
    "    print(\"Precision:\", precision)\n",
    "    print(\"Recall:\", recall)\n",
    "    \n",
    "    # 绘制热力图\n",
    "    plt.figure(figsize=(10, 8))\n",
    "    sns.heatmap(conf_matrix, annot=True, fmt=\"d\", cmap=\"Blues\")\n",
    "    plt.xlabel('Predicted Label')\n",
    "    plt.ylabel('True Label')\n",
    "    plt.title('Confusion Matrix')\n",
    "    plt.show()"
   ]
  },
  {
   "cell_type": "code",
   "execution_count": 118,
   "id": "52bee528-48a0-4d61-b2b7-dc8240841e87",
   "metadata": {},
   "outputs": [
    {
     "name": "stdout",
     "output_type": "stream",
     "text": [
      "Epoch [1/5], Batch 2000, Loss: 0.688337, Accuracy: 0.5147\n",
      "Epoch [1/5], Batch 4000, Loss: 0.686951, Accuracy: 0.5159\n",
      "Epoch [1/5], Batch 6000, Loss: 0.686460, Accuracy: 0.5166\n",
      "Epoch [1/5], Batch 8000, Loss: 0.686120, Accuracy: 0.5178\n",
      "Epoch [1/5], Batch 10000, Loss: 0.685878, Accuracy: 0.5190\n",
      "Epoch [1/5], Average Loss: 0.685756, Accuracy: 0.5196\n",
      "Epoch [2/5], Batch 2000, Loss: 0.683977, Accuracy: 0.5326\n",
      "Epoch [2/5], Batch 4000, Loss: 0.683711, Accuracy: 0.5355\n",
      "Epoch [2/5], Batch 6000, Loss: 0.683554, Accuracy: 0.5364\n",
      "Epoch [2/5], Batch 8000, Loss: 0.683420, Accuracy: 0.5374\n",
      "Epoch [2/5], Batch 10000, Loss: 0.683211, Accuracy: 0.5384\n",
      "Epoch [2/5], Average Loss: 0.683096, Accuracy: 0.5389\n",
      "Epoch [3/5], Batch 2000, Loss: 0.681878, Accuracy: 0.5442\n",
      "Epoch [3/5], Batch 4000, Loss: 0.681552, Accuracy: 0.5456\n",
      "Epoch [3/5], Batch 6000, Loss: 0.681393, Accuracy: 0.5460\n",
      "Epoch [3/5], Batch 8000, Loss: 0.681209, Accuracy: 0.5468\n",
      "Epoch [3/5], Batch 10000, Loss: 0.681014, Accuracy: 0.5474\n",
      "Epoch [3/5], Average Loss: 0.680960, Accuracy: 0.5475\n",
      "Epoch [4/5], Batch 2000, Loss: 0.680091, Accuracy: 0.5505\n",
      "Epoch [4/5], Batch 4000, Loss: 0.679721, Accuracy: 0.5513\n",
      "Epoch [4/5], Batch 6000, Loss: 0.679569, Accuracy: 0.5521\n",
      "Epoch [4/5], Batch 8000, Loss: 0.679567, Accuracy: 0.5522\n",
      "Epoch [4/5], Batch 10000, Loss: 0.679562, Accuracy: 0.5522\n",
      "Epoch [4/5], Average Loss: 0.679520, Accuracy: 0.5523\n",
      "Epoch [5/5], Batch 2000, Loss: 0.678484, Accuracy: 0.5553\n",
      "Epoch [5/5], Batch 4000, Loss: 0.678563, Accuracy: 0.5552\n",
      "Epoch [5/5], Batch 6000, Loss: 0.678741, Accuracy: 0.5550\n",
      "Epoch [5/5], Batch 8000, Loss: 0.678453, Accuracy: 0.5553\n",
      "Epoch [5/5], Batch 10000, Loss: 0.678379, Accuracy: 0.5557\n",
      "Epoch [5/5], Average Loss: 0.678302, Accuracy: 0.5559\n"
     ]
    },
    {
     "data": {
      "image/png": "[encoded data removed]",
      "text/plain": [
       "<Figure size 864x360 with 2 Axes>"
      ]
     },
     "metadata": {
      "needs_background": "light"
     },
     "output_type": "display_data"
    }
   ],
   "source": [
    "train()"
   ]
  },
  {
   "cell_type": "code",
   "execution_count": 119,
   "id": "e3dc8c87-a667-46b7-b811-6dfdea44a0ac",
   "metadata": {},
   "outputs": [
    {
     "name": "stdout",
     "output_type": "stream",
     "text": [
      "Average Loss: 0.6784, Accuracy: 0.5428\n",
      "Confusion Matrix:\n",
      "[[216158  40751]\n",
      " [185270  52211]]\n",
      "Precision: 0.5616380886813968\n",
      "Recall: 0.21985337774390373\n"
     ]
    },
    {
     "data": {
      "image/png": "[encoded data removed]",
      "text/plain": [
       "<Figure size 720x576 with 2 Axes>"
      ]
     },
     "metadata": {
      "needs_background": "light"
     },
     "output_type": "display_data"
    }
   ],
   "source": [
    "test()"
   ]
  },
  {
   "cell_type": "code",
   "execution_count": 120,
   "id": "1d2f7869-bdbc-45e8-b6d9-0c0e3421519e",
   "metadata": {},
   "outputs": [
    {
     "name": "stdout",
     "output_type": "stream",
     "text": [
      "EnhancedGRUClassifier(\n",
      "  (gru): GRU(6, 80, num_layers=3, batch_first=True, dropout=0.5, bidirectional=True)\n",
      "  (fc_layers): Sequential(\n",
      "    (0): Linear(in_features=160, out_features=80, bias=True)\n",
      "    (1): ReLU()\n",
      "    (2): Dropout(p=0.5, inplace=False)\n",
      "    (3): Linear(in_features=80, out_features=2, bias=True)\n",
      "  )\n",
      "  (layer_norm): LayerNorm((160,), eps=1e-05, elementwise_affine=True)\n",
      ")\n"
     ]
    }
   ],
   "source": [
    "print(model)"
   ]
  },
  {
   "cell_type": "code",
   "execution_count": null,
   "id": "47136fa7-4172-4df6-852e-9308aaf5e8c4",
   "metadata": {},
   "outputs": [],
   "source": []
  },
  {
   "cell_type": "code",
   "execution_count": null,
   "id": "7e274f9e-5dff-44e3-bc75-dc5b354d1935",
   "metadata": {},
   "outputs": [],
   "source": []
  }
 ],
 "metadata": {
  "kernelspec": {
   "display_name": "Python 3 (ipykernel)",
   "language": "python",
   "name": "python3"
  },
  "language_info": {
   "codemirror_mode": {
    "name": "ipython",
    "version": 3
   },
   "file_extension": ".py",
   "mimetype": "text/x-python",
   "name": "python",
   "nbconvert_exporter": "python",
   "pygments_lexer": "ipython3",
   "version": "3.8.10"
  }
 },
 "nbformat": 4,
 "nbformat_minor": 5
}
