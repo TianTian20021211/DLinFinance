{
 "cells": [
  {
   "cell_type": "code",
   "execution_count": 104,
   "id": "7f5a8a68-5a23-4059-b896-eb762face055",
   "metadata": {},
   "outputs": [],
   "source": [
    "import pickle\n",
    "\n",
    "# 从文件中加载变量\n",
    "with open(\"./data22_plus_amount.pkl\", 'rb') as f:\n",
    "    X_train, X_test, y_train, y_test = pickle.load(f)\n",
    "# 组合训练集和测试集的数据\n",
    "X_train_data = X_train\n",
    "y_train_data = y_train\n",
    "X_test_data = X_test\n",
    "y_test_data = y_test"
   ]
  },
  {
   "cell_type": "code",
   "execution_count": 105,
   "id": "690ef849-9491-455c-9447-ae85d7cdbf1e",
   "metadata": {},
   "outputs": [],
   "source": [
    "import torch\n",
    "from torch.utils.data import Dataset, DataLoader\n",
    "\n",
    "class MyDataset(Dataset):\n",
    "    def __init__(self, X, y):\n",
    "        self.X = torch.tensor(X, dtype=torch.float32)\n",
    "        self.y = torch.tensor(y, dtype=torch.int64)\n",
    "\n",
    "    def __len__(self):\n",
    "        return len(self.X)\n",
    "\n",
    "    def __getitem__(self, idx):\n",
    "        return self.X[idx], self.y[idx]\n",
    "    \n",
    "# 假设MyDataset已定义并能正确读取X, y数据\n",
    "dataset_train = MyDataset(X_train_data, y_train_data)\n",
    "dataset_test = MyDataset(X_test_data, y_test_data)\n",
    "# 创建DataLoader实例\n",
    "batch_size = 128\n",
    "dataloader_train = DataLoader(dataset_train, batch_size=batch_size, shuffle=True)\n",
    "dataloader_test = DataLoader(dataset_test, batch_size=batch_size, shuffle=True)"
   ]
  },
  {
   "cell_type": "code",
   "execution_count": 106,
   "id": "5fd5022a-0500-4084-9fc9-0f64e0b7fd61",
   "metadata": {},
   "outputs": [],
   "source": [
    "import torch\n",
    "import torch.nn as nn\n",
    "import torch.nn.functional as F\n",
    "\n",
    "class EnhancedRNNClassifier(nn.Module):\n",
    "    def __init__(self, input_size, hidden_size, num_layers, output_size, dropout_rate=0.5):\n",
    "        super(EnhancedRNNClassifier, self).__init__()\n",
    "        self.hidden_size = hidden_size\n",
    "        self.num_layers = num_layers\n",
    "        \n",
    "        # 第1层RNN\n",
    "        self.rnn1 = nn.RNN(input_size, hidden_size, num_layers=1, batch_first=True, dropout=dropout_rate)\n",
    "        \n",
    "        # 第2层RNN\n",
    "        self.rnn2 = nn.RNN(hidden_size, hidden_size, num_layers=1, batch_first=True, dropout=dropout_rate)\n",
    "        \n",
    "        # 第3层RNN\n",
    "        self.rnn3 = nn.RNN(hidden_size, hidden_size, num_layers=num_layers - 2, batch_first=True, dropout=dropout_rate)\n",
    "        \n",
    "        # 批标准化层\n",
    "        self.batch_norm = nn.BatchNorm1d(hidden_size)\n",
    "        \n",
    "        # 全连接层\n",
    "        self.fc1 = nn.Linear(hidden_size, hidden_size)\n",
    "        self.fc2 = nn.Linear(hidden_size, output_size)\n",
    "         # 注意力机制\n",
    "        self.attention = nn.Linear(hidden_size, 1)\n",
    "        # Dropout层\n",
    "        self.dropout = nn.Dropout(dropout_rate)\n",
    "\n",
    "    def forward(self, x):\n",
    "        # 第1层RNN前向传播\n",
    "        out, _ = self.rnn1(x)\n",
    "        out = F.relu(out)\n",
    "        out = self.dropout(out)\n",
    "        \n",
    "        # 第2层RNN前向传播\n",
    "        out, _ = self.rnn2(out)\n",
    "        out = F.relu(out)\n",
    "        out = self.dropout(out)\n",
    "        \n",
    "        # 第3层RNN前向传播\n",
    "        out, _ = self.rnn3(out)\n",
    "        out = F.relu(out)\n",
    "        out = self.dropout(out)\n",
    "        \n",
    "        # 批标准化\n",
    "        out = out.permute(0, 2, 1)  # 调整形状以适应批标准化的输入要求\n",
    "        out = self.batch_norm(out)\n",
    "        out = out.permute(0, 2, 1)  # 恢复形状\n",
    "        \n",
    "        # 全连接层前向传播\n",
    "        out = F.relu(self.fc1(out))\n",
    "        out = self.dropout(out)\n",
    "        attention_weights = F.softmax(self.attention(out), dim=1)\n",
    "        out = torch.sum(out * attention_weights, dim=1)\n",
    "        out = self.dropout(out)\n",
    "        out = self.fc2(out)\n",
    "        out = self.dropout(out)\n",
    "        return out\n"
   ]
  },
  {
   "cell_type": "code",
   "execution_count": 107,
   "id": "cac01e4a-c34a-425b-a7a8-a0b3a9d77749",
   "metadata": {},
   "outputs": [],
   "source": [
    "input_size = 6\n",
    "output_size = 2"
   ]
  },
  {
   "cell_type": "code",
   "execution_count": 108,
   "id": "dc147a71-d64c-4ac6-9a3a-7de22c5e14d9",
   "metadata": {},
   "outputs": [],
   "source": [
    "# 定义模型超参数\n",
    "hidden_size = 80\n",
    "num_layers = 3\n",
    "num_epochs = 5\n",
    "dropout_rate = 0.1  # 设置dropout率 \n",
    "learning_rate = 0.00005  # 设置学习率\n",
    "weight_decay = 0.01"
   ]
  },
  {
   "cell_type": "code",
   "execution_count": 109,
   "id": "4a69ec68-14c9-498f-ab5a-080d072ac587",
   "metadata": {},
   "outputs": [
    {
     "name": "stderr",
     "output_type": "stream",
     "text": [
      "/root/miniconda3/lib/python3.8/site-packages/torch/nn/modules/rnn.py:62: UserWarning: dropout option adds dropout after all but last recurrent layer, so non-zero dropout expects num_layers greater than 1, but got dropout=0.1 and num_layers=1\n",
      "  warnings.warn(\"dropout option adds dropout after all but last \"\n"
     ]
    }
   ],
   "source": [
    "import torch\n",
    "import torch.nn as nn\n",
    "import torch.optim as optim\n",
    "import matplotlib.pyplot as plt\n",
    "\n",
    "# 实例化模型|\n",
    "model = EnhancedRNNClassifier(input_size, hidden_size, num_layers, output_size, dropout_rate).to('cuda')\n",
    "\n",
    "# 定义损失函数和优化器\n",
    "criterion = nn.CrossEntropyLoss()\n",
    "optimizer = optim.AdamW(model.parameters(), lr=learning_rate, weight_decay=weight_decay)"
   ]
  },
  {
   "cell_type": "code",
   "execution_count": 110,
   "id": "0e06f188-0265-4fc6-a00c-c012e4a61174",
   "metadata": {},
   "outputs": [],
   "source": [
    "from sklearn.metrics import confusion_matrix, precision_score, recall_score\n",
    "def train():\n",
    "    # 用于记录整个训练过程的损失和准确率\n",
    "    epoch_losses = []\n",
    "    epoch_accuracies = []\n",
    "    # 训练模型 \n",
    "    for epoch in range(num_epochs):\n",
    "        total_loss = 0.0\n",
    "        correct = 0\n",
    "        total = 0\n",
    "        for i, (batch_X, batch_y) in enumerate(dataloader_train):\n",
    "            # Forward pass\n",
    "            batch_X = batch_X.to('cuda')\n",
    "            batch_y = batch_y.to('cuda')\n",
    "            outputs = model(batch_X)\n",
    "            loss = criterion(outputs, batch_y)\n",
    "            \n",
    "            # Backward pass and optimization\n",
    "            optimizer.zero_grad()\n",
    "            loss.backward()\n",
    "            optimizer.step()\n",
    "            \n",
    "            total_loss += loss.item()\n",
    "            _, predicted = torch.max(outputs, 1)\n",
    "            total += batch_y.size(0)\n",
    "            correct += (predicted == batch_y).sum().item()\n",
    "\n",
    "            # 每20个batch报告一次\n",
    "            if (i + 1) % 2000 == 0:\n",
    "                current_loss = total_loss / (i + 1)\n",
    "                current_accuracy = correct / total\n",
    "                print(f'Epoch [{epoch+1}/{num_epochs}], Batch {i+1}, Loss: {current_loss:.6f}, Accuracy: {current_accuracy:.4f}')\n",
    "        \n",
    "        # 计算每个epoch的平均损失和准确率\n",
    "        average_loss = total_loss / len(dataloader_train)\n",
    "        accuracy = correct / total\n",
    "        epoch_losses.append(average_loss)\n",
    "        epoch_accuracies.append(accuracy)\n",
    "        \n",
    "        print(f'Epoch [{epoch+1}/{num_epochs}], Average Loss: {average_loss:.6f}, Accuracy: {accuracy:.4f}')\n",
    "    # 绘制损失和准确率图表\n",
    "    plt.figure(figsize=(12, 5))\n",
    "    plt.subplot(1, 2, 1)\n",
    "    plt.plot(range(1, num_epochs+1), epoch_losses, marker='o')\n",
    "    plt.title('Epoch vs Loss')\n",
    "    plt.xlabel('Epoch')\n",
    "    plt.ylabel('Loss')\n",
    "\n",
    "    plt.subplot(1, 2, 2)\n",
    "    plt.plot(range(1, num_epochs+1), epoch_accuracies, marker='o')\n",
    "    plt.title('Epoch vs Accuracy')\n",
    "    plt.xlabel('Epoch')\n",
    "    plt.ylabel('Accuracy')\n",
    "    plt.show()\n",
    "def test():\n",
    "    total_loss = 0.0\n",
    "    correct = 0\n",
    "    total = 0\n",
    "    all_predictions = []\n",
    "    all_labels = []\n",
    "    # 使用model.eval()将模型切换到评估模式\n",
    "    model.eval()\n",
    "\n",
    "    with torch.no_grad():  # 禁用梯度计算\n",
    "        for i, (batch_X, batch_y) in enumerate(dataloader_test):\n",
    "            batch_X = batch_X.to('cuda')\n",
    "            batch_y = batch_y.to('cuda')\n",
    "            # Forward pass\n",
    "            outputs = model(batch_X)\n",
    "            loss = criterion(outputs, batch_y)\n",
    "            \n",
    "            total_loss += loss.item()\n",
    "            _, predicted = torch.max(outputs, 1)\n",
    "            \n",
    "            all_predictions.extend(predicted.cpu().numpy())\n",
    "            all_labels.extend(batch_y.cpu().numpy())\n",
    "            total += batch_y.size(0)\n",
    "            correct += (predicted == batch_y).sum().item()\n",
    "\n",
    "    # 计算整个测试集的平均损失和准确率\n",
    "    average_loss = total_loss / len(dataloader_test)\n",
    "    accuracy = correct / total\n",
    "    \n",
    "    print(f'Average Loss: {average_loss:.4f}, Accuracy: {accuracy:.4f}')\n",
    "    # 计算混淆矩阵、精确率和召回率\n",
    "    conf_matrix = confusion_matrix(all_labels, all_predictions)\n",
    "    precision = precision_score(all_labels, all_predictions)\n",
    "    recall = recall_score(all_labels, all_predictions)\n",
    "\n",
    "    print(\"Confusion Matrix:\")\n",
    "    print(conf_matrix)\n",
    "    print(\"Precision:\", precision)\n",
    "    print(\"Recall:\", recall)\n"
   ]
  },
  {
   "cell_type": "code",
   "execution_count": 111,
   "id": "9b5e9942-1677-4c9d-9224-114a0fecf4e7",
   "metadata": {},
   "outputs": [],
   "source": [
    "import matplotlib.pyplot as plt\n",
    "import seaborn as sns\n",
    "from sklearn.metrics import confusion_matrix, precision_score, recall_score\n",
    "\n",
    "def test():\n",
    "    total_loss = 0.0\n",
    "    correct = 0\n",
    "    total = 0\n",
    "    all_predictions = []\n",
    "    all_labels = []\n",
    "    # 使用model.eval()将模型切换到评估模式\n",
    "    model.eval()\n",
    "\n",
    "    with torch.no_grad():  # 禁用梯度计算\n",
    "        for i, (batch_X, batch_y) in enumerate(dataloader_test):\n",
    "            batch_X = batch_X.to('cuda')\n",
    "            batch_y = batch_y.to('cuda')\n",
    "            # Forward pass\n",
    "            outputs = model(batch_X)\n",
    "            loss = criterion(outputs, batch_y)\n",
    "            \n",
    "            total_loss += loss.item()\n",
    "            _, predicted = torch.max(outputs, 1)\n",
    "            \n",
    "            all_predictions.extend(predicted.cpu().numpy())\n",
    "            all_labels.extend(batch_y.cpu().numpy())\n",
    "            total += batch_y.size(0)\n",
    "            correct += (predicted == batch_y).sum().item()\n",
    "\n",
    "    # 计算整个测试集的平均损失和准确率\n",
    "    average_loss = total_loss / len(dataloader_test)\n",
    "    accuracy = correct / total\n",
    "    \n",
    "    print(f'Average Loss: {average_loss:.4f}, Accuracy: {accuracy:.4f}')\n",
    "    # 计算混淆矩阵、精确率和召回率\n",
    "    conf_matrix = confusion_matrix(all_labels, all_predictions)\n",
    "    precision = precision_score(all_labels, all_predictions)\n",
    "    recall = recall_score(all_labels, all_predictions)\n",
    "\n",
    "    print(\"Confusion Matrix:\")\n",
    "    print(conf_matrix)\n",
    "    print(\"Precision:\", precision)\n",
    "    print(\"Recall:\", recall)\n",
    "    \n",
    "    # 绘制热力图\n",
    "    plt.figure(figsize=(10, 8))\n",
    "    sns.heatmap(conf_matrix, annot=True, fmt=\"d\", cmap=\"Blues\")\n",
    "    plt.xlabel('Predicted Label')\n",
    "    plt.ylabel('True Label')\n",
    "    plt.title('Confusion Matrix')\n",
    "    plt.show()"
   ]
  },
  {
   "cell_type": "code",
   "execution_count": 112,
   "id": "f50eb447-f24b-4d05-8734-c47832b8f07d",
   "metadata": {},
   "outputs": [
    {
     "name": "stdout",
     "output_type": "stream",
     "text": [
      "Epoch [1/5], Batch 2000, Loss: 0.688086, Accuracy: 0.5191\n",
      "Epoch [1/5], Batch 4000, Loss: 0.687237, Accuracy: 0.5243\n",
      "Epoch [1/5], Batch 6000, Loss: 0.686815, Accuracy: 0.5271\n",
      "Epoch [1/5], Batch 8000, Loss: 0.686455, Accuracy: 0.5288\n",
      "Epoch [1/5], Batch 10000, Loss: 0.686037, Accuracy: 0.5303\n",
      "Epoch [1/5], Average Loss: 0.685850, Accuracy: 0.5310\n",
      "Epoch [2/5], Batch 2000, Loss: 0.683741, Accuracy: 0.5387\n",
      "Epoch [2/5], Batch 4000, Loss: 0.683377, Accuracy: 0.5393\n",
      "Epoch [2/5], Batch 6000, Loss: 0.683269, Accuracy: 0.5404\n",
      "Epoch [2/5], Batch 8000, Loss: 0.683211, Accuracy: 0.5405\n",
      "Epoch [2/5], Batch 10000, Loss: 0.683120, Accuracy: 0.5410\n",
      "Epoch [2/5], Average Loss: 0.683099, Accuracy: 0.5410\n",
      "Epoch [3/5], Batch 2000, Loss: 0.681690, Accuracy: 0.5458\n",
      "Epoch [3/5], Batch 4000, Loss: 0.681706, Accuracy: 0.5460\n",
      "Epoch [3/5], Batch 6000, Loss: 0.681800, Accuracy: 0.5461\n",
      "Epoch [3/5], Batch 8000, Loss: 0.681836, Accuracy: 0.5462\n",
      "Epoch [3/5], Batch 10000, Loss: 0.681686, Accuracy: 0.5470\n",
      "Epoch [3/5], Average Loss: 0.681648, Accuracy: 0.5470\n",
      "Epoch [4/5], Batch 2000, Loss: 0.680494, Accuracy: 0.5513\n",
      "Epoch [4/5], Batch 4000, Loss: 0.680542, Accuracy: 0.5510\n",
      "Epoch [4/5], Batch 6000, Loss: 0.680640, Accuracy: 0.5510\n",
      "Epoch [4/5], Batch 8000, Loss: 0.680562, Accuracy: 0.5509\n",
      "Epoch [4/5], Batch 10000, Loss: 0.680564, Accuracy: 0.5509\n",
      "Epoch [4/5], Average Loss: 0.680487, Accuracy: 0.5512\n",
      "Epoch [5/5], Batch 2000, Loss: 0.680145, Accuracy: 0.5532\n",
      "Epoch [5/5], Batch 4000, Loss: 0.679894, Accuracy: 0.5532\n",
      "Epoch [5/5], Batch 6000, Loss: 0.679841, Accuracy: 0.5530\n",
      "Epoch [5/5], Batch 8000, Loss: 0.679757, Accuracy: 0.5533\n",
      "Epoch [5/5], Batch 10000, Loss: 0.679702, Accuracy: 0.5534\n",
      "Epoch [5/5], Average Loss: 0.679740, Accuracy: 0.5534\n"
     ]
    },
    {
     "data": {
      "image/png": "[encoded data removed]",
      "text/plain": [
       "<Figure size 864x360 with 2 Axes>"
      ]
     },
     "metadata": {
      "needs_background": "light"
     },
     "output_type": "display_data"
    }
   ],
   "source": [
    "train()"
   ]
  },
  {
   "cell_type": "code",
   "execution_count": 113,
   "id": "2f36782e-ffcd-4133-9556-35abb3625b55",
   "metadata": {},
   "outputs": [
    {
     "name": "stdout",
     "output_type": "stream",
     "text": [
      "Average Loss: 0.6773, Accuracy: 0.5477\n",
      "Confusion Matrix:\n",
      "[[179488  77421]\n",
      " [146190  91291]]\n",
      "Precision: 0.5411055526577837\n",
      "Recall: 0.38441391100761746\n"
     ]
    },
    {
     "data": {
      "image/png": "[encoded data removed]",
      "text/plain": [
       "<Figure size 720x576 with 2 Axes>"
      ]
     },
     "metadata": {
      "needs_background": "light"
     },
     "output_type": "display_data"
    }
   ],
   "source": [
    "test()"
   ]
  },
  {
   "cell_type": "code",
   "execution_count": 114,
   "id": "c348b432-dbed-4a9d-8430-d0dab6fdb1ff",
   "metadata": {},
   "outputs": [
    {
     "name": "stdout",
     "output_type": "stream",
     "text": [
      "EnhancedRNNClassifier(\n",
      "  (rnn1): RNN(6, 80, batch_first=True, dropout=0.1)\n",
      "  (rnn2): RNN(80, 80, batch_first=True, dropout=0.1)\n",
      "  (rnn3): RNN(80, 80, batch_first=True, dropout=0.1)\n",
      "  (batch_norm): BatchNorm1d(80, eps=1e-05, momentum=0.1, affine=True, track_running_stats=True)\n",
      "  (fc1): Linear(in_features=80, out_features=80, bias=True)\n",
      "  (fc2): Linear(in_features=80, out_features=2, bias=True)\n",
      "  (attention): Linear(in_features=80, out_features=1, bias=True)\n",
      "  (dropout): Dropout(p=0.1, inplace=False)\n",
      ")\n"
     ]
    }
   ],
   "source": [
    "print(model)"
   ]
  },
  {
   "cell_type": "code",
   "execution_count": null,
   "id": "db5daea8-3649-4937-8a5b-a66ac88d510b",
   "metadata": {},
   "outputs": [],
   "source": []
  }
 ],
 "metadata": {
  "kernelspec": {
   "display_name": "Python 3 (ipykernel)",
   "language": "python",
   "name": "python3"
  },
  "language_info": {
   "codemirror_mode": {
    "name": "ipython",
    "version": 3
   },
   "file_extension": ".py",
   "mimetype": "text/x-python",
   "name": "python",
   "nbconvert_exporter": "python",
   "pygments_lexer": "ipython3",
   "version": "3.8.10"
  }
 },
 "nbformat": 4,
 "nbformat_minor": 5
}
