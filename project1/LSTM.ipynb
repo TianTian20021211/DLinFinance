{
 "cells": [
  {
   "cell_type": "code",
   "execution_count": 136,
   "id": "26bcc05a-c360-462b-90c2-0c179d750fc8",
   "metadata": {},
   "outputs": [],
   "source": [
    "import pickle\n",
    "\n",
    "# 从文件中加载变量\n",
    "with open(\"./data22_plus_amount.pkl\", 'rb') as f:\n",
    "    X_train, X_test, y_train, y_test = pickle.load(f)\n",
    "# 组合训练集和测试集的数据\n",
    "X_train_data = X_train\n",
    "y_train_data = y_train\n",
    "X_test_data = X_test\n",
    "y_test_data = y_test"
   ]
  },
  {
   "cell_type": "code",
   "execution_count": 137,
   "id": "81ca9a98-92bc-4f5f-abc6-6ebe2d43836d",
   "metadata": {},
   "outputs": [],
   "source": [
    "import torch\n",
    "from torch.utils.data import Dataset, DataLoader\n",
    "\n",
    "class MyDataset(Dataset):\n",
    "    def __init__(self, X, y):\n",
    "        self.X = torch.tensor(X, dtype=torch.float32)\n",
    "        self.y = torch.tensor(y, dtype=torch.int64)\n",
    "\n",
    "    def __len__(self):\n",
    "        return len(self.X)\n",
    "\n",
    "    def __getitem__(self, idx):\n",
    "        return self.X[idx], self.y[idx]\n",
    "    \n",
    "# 假设MyDataset已定义并能正确读取X, y数据\n",
    "dataset_train = MyDataset(X_train_data, y_train_data)\n",
    "dataset_test = MyDataset(X_test_data, y_test_data)\n",
    "# 创建DataLoader实例\n",
    "batch_size = 128\n",
    "dataloader_train = DataLoader(dataset_train, batch_size=batch_size, shuffle=True)\n",
    "dataloader_test = DataLoader(dataset_test, batch_size=batch_size, shuffle=True)"
   ]
  },
  {
   "cell_type": "code",
   "execution_count": 138,
   "id": "c20bf9ab-19fd-4035-b4fc-8c01f647728b",
   "metadata": {},
   "outputs": [],
   "source": [
    "import torch\n",
    "import torch.nn as nn\n",
    "import torch.optim as optim\n",
    "import matplotlib.pyplot as plt\n",
    "class EnhancedLSTMClassifier(nn.Module):\n",
    "    def __init__(self, input_size, hidden_size, num_layers, output_size, bidirectional=True, dropout_rate=0.5):\n",
    "        super(EnhancedLSTMClassifier, self).__init__()\n",
    "        self.hidden_size = hidden_size\n",
    "        self.num_layers = num_layers\n",
    "        self.bidirectional = bidirectional\n",
    "        self.lstm = nn.LSTM(input_size, hidden_size, num_layers, batch_first=True, dropout=dropout_rate, bidirectional=bidirectional)\n",
    "        self.fc_layers = nn.Sequential(\n",
    "            nn.Linear(hidden_size * (2 if bidirectional else 1), hidden_size), # Adjust input size if bidirectional\n",
    "            nn.ReLU(),\n",
    "            nn.Dropout(dropout_rate),\n",
    "            nn.Linear(hidden_size, output_size)\n",
    "        )\n",
    "        self.layer_norm = nn.LayerNorm(hidden_size * (2 if bidirectional else 1))\n",
    "\n",
    "    def forward(self, x):\n",
    "        # 初始化LSTM的hidden state和cell state\n",
    "        h0 = torch.zeros(self.num_layers * (2 if self.bidirectional else 1), x.size(0), self.hidden_size).to(x.device)\n",
    "        c0 = torch.zeros(self.num_layers * (2 if self.bidirectional else 1), x.size(0), self.hidden_size).to(x.device)\n",
    "\n",
    "        # LSTM前向传播\n",
    "        out, _ = self.lstm(x, (h0, c0))\n",
    "\n",
    "        # 应用Layer Normalization\n",
    "        out = self.layer_norm(out[:, -1, :])\n",
    "\n",
    "        # 经过全连接层网络\n",
    "        out = self.fc_layers(out)\n",
    "        return out"
   ]
  },
  {
   "cell_type": "code",
   "execution_count": 139,
   "id": "39cfac00-debb-43d3-86d1-7dc4a04cff31",
   "metadata": {},
   "outputs": [],
   "source": [
    "input_size = 6\n",
    "output_size = 2"
   ]
  },
  {
   "cell_type": "code",
   "execution_count": 140,
   "id": "69411091-1fce-415c-b54a-df581eaacfca",
   "metadata": {},
   "outputs": [],
   "source": [
    "# 定义模型超参数\n",
    "hidden_size = 80\n",
    "num_layers = 5\n",
    "num_epochs = 5\n",
    "dropout_rate = 0.5  # 设置dropout率 \n",
    "learning_rate = 0.0005  # 设置学习率 \n",
    "bidirection = True\n",
    "weight_decay = 0.01"
   ]
  },
  {
   "cell_type": "code",
   "execution_count": 141,
   "id": "0b9e6ea3-a958-44bb-81b4-f06554f81091",
   "metadata": {},
   "outputs": [],
   "source": [
    "import torch\n",
    "import torch.nn as nn\n",
    "import torch.optim as optim\n",
    "import matplotlib.pyplot as plt\n",
    "\n",
    "# 实例化模型\n",
    "model = EnhancedLSTMClassifier(input_size, hidden_size, num_layers, output_size, bidirection, dropout_rate).to('cuda')\n",
    "\n",
    "# 定义损失函数和优化器\n",
    "criterion = nn.CrossEntropyLoss()\n",
    "optimizer = optim.AdamW(model.parameters(), lr=learning_rate, weight_decay=weight_decay)"
   ]
  },
  {
   "cell_type": "code",
   "execution_count": 142,
   "id": "fc3fa8e7-ad02-4863-8900-3baf0e067e63",
   "metadata": {},
   "outputs": [],
   "source": [
    "from sklearn.metrics import confusion_matrix, precision_score, recall_score\n",
    "def train():\n",
    "    # 用于记录整个训练过程的损失和准确率\n",
    "    epoch_losses = []\n",
    "    epoch_accuracies = []\n",
    "    # 训练模型 \n",
    "    for epoch in range(num_epochs):\n",
    "        total_loss = 0.0\n",
    "        correct = 0\n",
    "        total = 0\n",
    "        for i, (batch_X, batch_y) in enumerate(dataloader_train):\n",
    "            # Forward pass\n",
    "            batch_X = batch_X.to('cuda')\n",
    "            batch_y = batch_y.to('cuda')\n",
    "            outputs = model(batch_X)\n",
    "            loss = criterion(outputs, batch_y)\n",
    "            \n",
    "            # Backward pass and optimization\n",
    "            optimizer.zero_grad()\n",
    "            loss.backward()\n",
    "            optimizer.step()\n",
    "            \n",
    "            total_loss += loss.item()\n",
    "            _, predicted = torch.max(outputs, 1)\n",
    "            total += batch_y.size(0)\n",
    "            correct += (predicted == batch_y).sum().item()\n",
    "\n",
    "            # 每20个batch报告一次\n",
    "            if (i + 1) % 2000 == 0:\n",
    "                current_loss = total_loss / (i + 1)\n",
    "                current_accuracy = correct / total\n",
    "                print(f'Epoch [{epoch+1}/{num_epochs}], Batch {i+1}, Loss: {current_loss:.6f}, Accuracy: {current_accuracy:.4f}')\n",
    "        \n",
    "        # 计算每个epoch的平均损失和准确率\n",
    "        average_loss = total_loss / len(dataloader_train)\n",
    "        accuracy = correct / total\n",
    "        epoch_losses.append(average_loss)\n",
    "        epoch_accuracies.append(accuracy)\n",
    "        \n",
    "        print(f'Epoch [{epoch+1}/{num_epochs}], Average Loss: {average_loss:.6f}, Accuracy: {accuracy:.4f}')\n",
    "    # 绘制损失和准确率图表\n",
    "    plt.figure(figsize=(12, 5))\n",
    "    plt.subplot(1, 2, 1)\n",
    "    plt.plot(range(1, num_epochs+1), epoch_losses, marker='o')\n",
    "    plt.title('Epoch vs Loss')\n",
    "    plt.xlabel('Epoch')\n",
    "    plt.ylabel('Loss')\n",
    "\n",
    "    plt.subplot(1, 2, 2)\n",
    "    plt.plot(range(1, num_epochs+1), epoch_accuracies, marker='o')\n",
    "    plt.title('Epoch vs Accuracy')\n",
    "    plt.xlabel('Epoch')\n",
    "    plt.ylabel('Accuracy')\n",
    "    plt.show()"
   ]
  },
  {
   "cell_type": "code",
   "execution_count": 143,
   "id": "e01378d3-ff82-415b-86b1-42c4f89e20fb",
   "metadata": {},
   "outputs": [],
   "source": [
    "import matplotlib.pyplot as plt\n",
    "import seaborn as sns\n",
    "from sklearn.metrics import confusion_matrix, precision_score, recall_score\n",
    "\n",
    "def test():\n",
    "    total_loss = 0.0\n",
    "    correct = 0\n",
    "    total = 0\n",
    "    all_predictions = []\n",
    "    all_labels = []\n",
    "    # 使用model.eval()将模型切换到评估模式\n",
    "    model.eval()\n",
    "\n",
    "    with torch.no_grad():  # 禁用梯度计算\n",
    "        for i, (batch_X, batch_y) in enumerate(dataloader_test):\n",
    "            batch_X = batch_X.to('cuda')\n",
    "            batch_y = batch_y.to('cuda')\n",
    "            # Forward pass\n",
    "            outputs = model(batch_X)\n",
    "            loss = criterion(outputs, batch_y)\n",
    "            \n",
    "            total_loss += loss.item()\n",
    "            _, predicted = torch.max(outputs, 1)\n",
    "            \n",
    "            all_predictions.extend(predicted.cpu().numpy())\n",
    "            all_labels.extend(batch_y.cpu().numpy())\n",
    "            total += batch_y.size(0)\n",
    "            correct += (predicted == batch_y).sum().item()\n",
    "\n",
    "    # 计算整个测试集的平均损失和准确率\n",
    "    average_loss = total_loss / len(dataloader_test)\n",
    "    accuracy = correct / total\n",
    "    \n",
    "    print(f'Average Loss: {average_loss:.4f}, Accuracy: {accuracy:.4f}')\n",
    "    # 计算混淆矩阵、精确率和召回率\n",
    "    conf_matrix = confusion_matrix(all_labels, all_predictions)\n",
    "    precision = precision_score(all_labels, all_predictions)\n",
    "    recall = recall_score(all_labels, all_predictions)\n",
    "\n",
    "    print(\"Confusion Matrix:\")\n",
    "    print(conf_matrix)\n",
    "    print(\"Precision:\", precision)\n",
    "    print(\"Recall:\", recall)\n",
    "    \n",
    "    # 绘制热力图\n",
    "    plt.figure(figsize=(10, 8))\n",
    "    sns.heatmap(conf_matrix, annot=True, fmt=\"d\", cmap=\"Blues\")\n",
    "    plt.xlabel('Predicted Label')\n",
    "    plt.ylabel('True Label')\n",
    "    plt.title('Confusion Matrix')\n",
    "    plt.show()"
   ]
  },
  {
   "cell_type": "code",
   "execution_count": 144,
   "id": "05d61bee-c9fa-45c4-8827-69cff1a84d59",
   "metadata": {},
   "outputs": [
    {
     "name": "stdout",
     "output_type": "stream",
     "text": [
      "Epoch [1/5], Batch 2000, Loss: 0.688402, Accuracy: 0.5132\n",
      "Epoch [1/5], Batch 4000, Loss: 0.687336, Accuracy: 0.5158\n",
      "Epoch [1/5], Batch 6000, Loss: 0.686823, Accuracy: 0.5164\n",
      "Epoch [1/5], Batch 8000, Loss: 0.686654, Accuracy: 0.5167\n",
      "Epoch [1/5], Batch 10000, Loss: 0.686760, Accuracy: 0.5172\n",
      "Epoch [1/5], Average Loss: 0.686697, Accuracy: 0.5171\n",
      "Epoch [2/5], Batch 2000, Loss: 0.686250, Accuracy: 0.5158\n",
      "Epoch [2/5], Batch 4000, Loss: 0.685950, Accuracy: 0.5167\n",
      "Epoch [2/5], Batch 6000, Loss: 0.685788, Accuracy: 0.5173\n",
      "Epoch [2/5], Batch 8000, Loss: 0.685734, Accuracy: 0.5177\n",
      "Epoch [2/5], Batch 10000, Loss: 0.685768, Accuracy: 0.5178\n",
      "Epoch [2/5], Average Loss: 0.685769, Accuracy: 0.5178\n",
      "Epoch [3/5], Batch 2000, Loss: 0.685822, Accuracy: 0.5170\n",
      "Epoch [3/5], Batch 4000, Loss: 0.685797, Accuracy: 0.5174\n",
      "Epoch [3/5], Batch 6000, Loss: 0.685852, Accuracy: 0.5180\n",
      "Epoch [3/5], Batch 8000, Loss: 0.685846, Accuracy: 0.5179\n",
      "Epoch [3/5], Batch 10000, Loss: 0.685753, Accuracy: 0.5180\n",
      "Epoch [3/5], Average Loss: 0.685839, Accuracy: 0.5178\n",
      "Epoch [4/5], Batch 2000, Loss: 0.685384, Accuracy: 0.5165\n",
      "Epoch [4/5], Batch 4000, Loss: 0.685152, Accuracy: 0.5181\n",
      "Epoch [4/5], Batch 6000, Loss: 0.685105, Accuracy: 0.5180\n",
      "Epoch [4/5], Batch 8000, Loss: 0.684853, Accuracy: 0.5218\n",
      "Epoch [4/5], Batch 10000, Loss: 0.684619, Accuracy: 0.5246\n",
      "Epoch [4/5], Average Loss: 0.684556, Accuracy: 0.5254\n",
      "Epoch [5/5], Batch 2000, Loss: 0.682528, Accuracy: 0.5433\n",
      "Epoch [5/5], Batch 4000, Loss: 0.682867, Accuracy: 0.5414\n",
      "Epoch [5/5], Batch 6000, Loss: 0.682550, Accuracy: 0.5425\n",
      "Epoch [5/5], Batch 8000, Loss: 0.682386, Accuracy: 0.5433\n",
      "Epoch [5/5], Batch 10000, Loss: 0.682228, Accuracy: 0.5439\n",
      "Epoch [5/5], Average Loss: 0.682144, Accuracy: 0.5442\n"
     ]
    },
    {
     "data": {
      "image/png": "[encoded data removed]",
      "text/plain": [
       "<Figure size 864x360 with 2 Axes>"
      ]
     },
     "metadata": {
      "needs_background": "light"
     },
     "output_type": "display_data"
    }
   ],
   "source": [
    "train()"
   ]
  },
  {
   "cell_type": "code",
   "execution_count": 145,
   "id": "5dc2af9b-6bb6-4e96-99bc-ad76c222464b",
   "metadata": {},
   "outputs": [
    {
     "name": "stdout",
     "output_type": "stream",
     "text": [
      "Average Loss: 0.6794, Accuracy: 0.5461\n",
      "Confusion Matrix:\n",
      "[[203554  53355]\n",
      " [171054  66427]]\n",
      "Precision: 0.5545657945267235\n",
      "Recall: 0.2797150087796497\n"
     ]
    },
    {
     "data": {
      "image/png": "[encoded data removed]",
      "text/plain": [
       "<Figure size 720x576 with 2 Axes>"
      ]
     },
     "metadata": {
      "needs_background": "light"
     },
     "output_type": "display_data"
    }
   ],
   "source": [
    "test()"
   ]
  },
  {
   "cell_type": "code",
   "execution_count": 146,
   "id": "67d3fc4e-c8ca-4321-8d61-c8be5852d42f",
   "metadata": {},
   "outputs": [
    {
     "name": "stdout",
     "output_type": "stream",
     "text": [
      "EnhancedLSTMClassifier(\n",
      "  (lstm): LSTM(6, 80, num_layers=5, batch_first=True, dropout=0.5, bidirectional=True)\n",
      "  (fc_layers): Sequential(\n",
      "    (0): Linear(in_features=160, out_features=80, bias=True)\n",
      "    (1): ReLU()\n",
      "    (2): Dropout(p=0.5, inplace=False)\n",
      "    (3): Linear(in_features=80, out_features=2, bias=True)\n",
      "  )\n",
      "  (layer_norm): LayerNorm((160,), eps=1e-05, elementwise_affine=True)\n",
      ")\n"
     ]
    }
   ],
   "source": [
    "print(model)"
   ]
  },
  {
   "cell_type": "code",
   "execution_count": null,
   "id": "3a898c85-0e27-4416-b3ef-ddb36b522a16",
   "metadata": {},
   "outputs": [],
   "source": []
  },
  {
   "cell_type": "code",
   "execution_count": null,
   "id": "63cebda8-6ef0-4e74-80a2-e71fce47fc99",
   "metadata": {},
   "outputs": [],
   "source": []
  }
 ],
 "metadata": {
  "kernelspec": {
   "display_name": "Python 3 (ipykernel)",
   "language": "python",
   "name": "python3"
  },
  "language_info": {
   "codemirror_mode": {
    "name": "ipython",
    "version": 3
   },
   "file_extension": ".py",
   "mimetype": "text/x-python",
   "name": "python",
   "nbconvert_exporter": "python",
   "pygments_lexer": "ipython3",
   "version": "3.8.10"
  }
 },
 "nbformat": 4,
 "nbformat_minor": 5
}
