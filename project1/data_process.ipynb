{
 "cells": [
  {
   "cell_type": "code",
   "execution_count": 50,
   "id": "d2801d64-35f4-421b-8d56-3705ad541a53",
   "metadata": {},
   "outputs": [
    {
     "name": "stderr",
     "output_type": "stream",
     "text": [
      " 81%|████████▏ | 2017/2480 [07:55<02:05,  3.68it/s]"
     ]
    },
    {
     "name": "stdout",
     "output_type": "stream",
     "text": [
      "jump 600591.SH\n"
     ]
    },
    {
     "name": "stderr",
     "output_type": "stream",
     "text": [
      " 82%|████████▏ | 2033/2480 [07:59<01:59,  3.74it/s]"
     ]
    },
    {
     "name": "stdout",
     "output_type": "stream",
     "text": [
      "jump 600607.SH\n"
     ]
    },
    {
     "name": "stderr",
     "output_type": "stream",
     "text": [
      " 91%|█████████ | 2250/2480 [08:57<01:04,  3.57it/s]"
     ]
    },
    {
     "name": "stdout",
     "output_type": "stream",
     "text": [
      "jump 600842.SH\n"
     ]
    },
    {
     "name": "stderr",
     "output_type": "stream",
     "text": [
      "100%|██████████| 2480/2480 [09:50<00:00,  4.20it/s]\n"
     ]
    }
   ],
   "source": [
    "import pandas as pd\n",
    "import numpy as np\n",
    "from tqdm import tqdm\n",
    "data = pd.read_csv(\"./project1_data.csv\")\n",
    "# 将日期字符串转换为日期类型，并提取年份\n",
    "data['year'] = pd.to_datetime(data['date'], format='%Y%m%d').dt.year\n",
    "\n",
    "# 按股票代码分组\n",
    "grouped_data = data.groupby('code')\n",
    "\n",
    "sequence_length = 22  # 序列长度\n",
    "features = ['open', 'high', 'low', 'close', 'volume', 'amount']  # 特征列\n",
    "\n",
    "# 初始化列表\n",
    "X_train_list = []\n",
    "y_train_list = []\n",
    "X_test_list = []\n",
    "y_test_list = []\n",
    "progress_bar = tqdm(total=len(grouped_data))\n",
    "for code, group_df in grouped_data:\n",
    "\n",
    "    if len(group_df) < sequence_length:\n",
    "        # 如果分组长度不够，跳过该分组\n",
    "        progress_bar.update(1)\n",
    "        print(\"jump\", code)\n",
    "        continue\n",
    "\n",
    "    # 按年份分割数据\n",
    "    train_df = group_df[group_df['year'].isin([2010, 2011, 2012])]\n",
    "    test_df = group_df[group_df['year'] == 2013]\n",
    "\n",
    "    def generate_sequences(df, X_list, y_list):\n",
    "        if len(df) >= sequence_length:\n",
    "            X = []\n",
    "            for i in range(len(df) - sequence_length):\n",
    "                sequence_data = df[features].values[i:i+sequence_length]\n",
    "                # Check the dimensionality of sequence_data\n",
    "                if np.ndim(sequence_data) == 2:  # Ensure it's a 3D array\n",
    "                    X.append(sequence_data)\n",
    "            if X:  # Ensure X is not empty before appending\n",
    "                X = np.array(X)\n",
    "                y = df['label'].values[sequence_length:]\n",
    "                X_list.append(X)\n",
    "                y_list.append(y)\n",
    "\n",
    "\n",
    "    # 对训练集和测试集数据分别生成序列\n",
    "    generate_sequences(train_df, X_train_list, y_train_list)\n",
    "    generate_sequences(test_df, X_test_list, y_test_list)\n",
    "    progress_bar.update(1)\n",
    "\n",
    "progress_bar.close()\n",
    "\n",
    "# 组合训练集和测试集的数据\n",
    "X_train = np.vstack(X_train_list)\n",
    "y_train = np.concatenate(y_train_list)\n",
    "X_test = np.vstack(X_test_list)\n",
    "y_test = np.concatenate(y_test_list)"
   ]
  },
  {
   "cell_type": "code",
   "execution_count": 51,
   "id": "82503b6d-ef36-42aa-9b79-56e3911fd8e1",
   "metadata": {},
   "outputs": [],
   "source": [
    "import pickle\n",
    "\n",
    "# 将变量保存到文件\n",
    "with open(\"./data22_plus_amount.pkl\", 'wb') as f:\n",
    "    pickle.dump((X_train, X_test, y_train, y_test), f)"
   ]
  }
 ],
 "metadata": {
  "kernelspec": {
   "display_name": "Python 3 (ipykernel)",
   "language": "python",
   "name": "python3"
  },
  "language_info": {
   "codemirror_mode": {
    "name": "ipython",
    "version": 3
   },
   "file_extension": ".py",
   "mimetype": "text/x-python",
   "name": "python",
   "nbconvert_exporter": "python",
   "pygments_lexer": "ipython3",
   "version": "3.8.10"
  }
 },
 "nbformat": 4,
 "nbformat_minor": 5
}
