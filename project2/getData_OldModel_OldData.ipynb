{
 "cells": [
  {
   "cell_type": "markdown",
   "id": "53a30860-9452-4ee3-bf46-ef40b997e585",
   "metadata": {},
   "source": [
    "# 读取数据并进行预处理"
   ]
  },
  {
   "cell_type": "code",
   "execution_count": 1,
   "id": "2166d237-b36a-4ebf-b7a8-f1f1814d3a96",
   "metadata": {},
   "outputs": [
    {
     "name": "stdout",
     "output_type": "stream",
     "text": [
      "GPU is available.\n",
      "Number of available GPUs: 1\n",
      "Current GPU device: 0\n",
      "GPU device name: NVIDIA GeForce RTX 4090 D\n"
     ]
    }
   ],
   "source": [
    "import torch\n",
    "\n",
    "# 检查是否有可用的 GPU\n",
    "gpu_available = torch.cuda.is_available()\n",
    "\n",
    "if gpu_available:\n",
    "    print(\"GPU is available.\")\n",
    "    print(f\"Number of available GPUs: {torch.cuda.device_count()}\")\n",
    "    print(f\"Current GPU device: {torch.cuda.current_device()}\")\n",
    "    print(f\"GPU device name: {torch.cuda.get_device_name(torch.cuda.current_device())}\")\n",
    "else:\n",
    "    print(\"GPU is not available.\")"
   ]
  },
  {
   "cell_type": "code",
   "execution_count": null,
   "id": "754eea56-43f9-4220-9d16-350178f44105",
   "metadata": {},
   "outputs": [],
   "source": []
  },
  {
   "cell_type": "code",
   "execution_count": 2,
   "id": "be5f3bde-7a09-4d50-9df7-ad69d2f94eef",
   "metadata": {},
   "outputs": [],
   "source": [
    "import torch\n",
    "from operator import add\n",
    "from functools import reduce\n",
    "from itertools import chain\n",
    "import numpy as np\n",
    "import pandas as pd\n",
    "from pprint import pprint"
   ]
  },
  {
   "cell_type": "code",
   "execution_count": null,
   "id": "294468b7-313d-47d5-bcbf-ce8e2868f292",
   "metadata": {},
   "outputs": [],
   "source": []
  },
  {
   "cell_type": "code",
   "execution_count": null,
   "id": "a4770b12-77a6-4749-aee0-d77373d80920",
   "metadata": {},
   "outputs": [],
   "source": []
  },
  {
   "cell_type": "code",
   "execution_count": null,
   "id": "bdeb64e4-cd72-4807-a446-5dcf8f5ba1d1",
   "metadata": {},
   "outputs": [],
   "source": []
  },
  {
   "cell_type": "code",
   "execution_count": null,
   "id": "ee70af34-65bc-4e1b-8899-61c3baa6e27b",
   "metadata": {},
   "outputs": [],
   "source": []
  },
  {
   "cell_type": "code",
   "execution_count": null,
   "id": "920dc447-c46a-4f98-9db8-6b415da3a300",
   "metadata": {},
   "outputs": [],
   "source": []
  },
  {
   "cell_type": "code",
   "execution_count": null,
   "id": "00f78d2d-8f70-49c0-b2b9-23703aa2ceef",
   "metadata": {},
   "outputs": [],
   "source": []
  },
  {
   "cell_type": "code",
   "execution_count": null,
   "id": "98fe852d-0486-4e61-86bb-4d842ffce8fa",
   "metadata": {},
   "outputs": [],
   "source": []
  },
  {
   "cell_type": "code",
   "execution_count": 3,
   "id": "66fec53e-a3a3-4663-b58e-c3ec94c69ab1",
   "metadata": {},
   "outputs": [],
   "source": [
    "data = pd.read_csv('./output_data_with_dates.csv')\n",
    "# 使用上一行的值填充缺失值\n",
    "df_filled = data.ffill()\n",
    "# 使用下一行的值填充仍然存在的缺失值\n",
    "data = df_filled.bfill()"
   ]
  },
  {
   "cell_type": "code",
   "execution_count": 4,
   "id": "94741c62-2eab-43b9-9c3d-93d8d7ea8e70",
   "metadata": {},
   "outputs": [
    {
     "name": "stdout",
     "output_type": "stream",
     "text": [
      "每列的缺失值数量:\n",
      "Date        0\n",
      "Stock       0\n",
      "Feature0    0\n",
      "Feature1    0\n",
      "Feature2    0\n",
      "Feature3    0\n",
      "Feature4    0\n",
      "Feature5    0\n",
      "Feature6    0\n",
      "Feature7    0\n",
      "Feature8    0\n",
      "dtype: int64\n",
      "\n",
      "总的缺失值数量:\n",
      "0\n"
     ]
    }
   ],
   "source": [
    "# 计算每列的缺失值数量\n",
    "missing_values_per_column = data.isna().sum()\n",
    "\n",
    "# 计算总的缺失值数量\n",
    "total_missing_values = data.isna().sum().sum()\n",
    "\n",
    "print(\"每列的缺失值数量:\")\n",
    "print(missing_values_per_column)\n",
    "print(\"\\n总的缺失值数量:\")\n",
    "print(total_missing_values)"
   ]
  },
  {
   "cell_type": "code",
   "execution_count": 5,
   "id": "7e1ea1b0-9e97-47da-bbd3-f70fa86ad049",
   "metadata": {},
   "outputs": [],
   "source": [
    "import torch\n",
    "from tqdm import tqdm\n",
    "\n",
    "def df_to_tensor(data, n=60, batch_size=2, features=9):\n",
    "    # 按date列分组\n",
    "    grouped_by_date = data.groupby('Date')\n",
    "\n",
    "    # 创建一个列表用于存储多级分组的数据\n",
    "    nested_grouped_list = []\n",
    "    stock_num = data['Stock'].nunique()\n",
    "    \n",
    "    for date_name, date_group in tqdm(grouped_by_date, desc=\"Processing dates\"):\n",
    "        grouped_by_stock = date_group.groupby('Stock')\n",
    "        stock_list = []\n",
    "        for stock_name, stock_group in grouped_by_stock:\n",
    "            # 删除date和Stock列，只保留特征列\n",
    "            stock_group = stock_group.drop(columns=['Date', 'Stock'])\n",
    "            # 将每个分组的数据转换为嵌套列表，并添加到stock_list中\n",
    "            stock_list.append([item for sublist in stock_group.values.tolist() for item in sublist])\n",
    "        nested_grouped_list.append(stock_list)\n",
    "    \n",
    "    new_list = []\n",
    "    \n",
    "    # 使用 tqdm 为外层循环添加进度条\n",
    "    for i in tqdm(range(len(nested_grouped_list) - n), desc=\"Processing nested grouped list\"):\n",
    "        new_list.append(nested_grouped_list[i:i+n])\n",
    "    \n",
    "    tensor = torch.tensor(new_list, dtype=torch.float32)\n",
    "    # 按照 batch_size 分割 tensor\n",
    "    num_batches = tensor.size(0) // batch_size\n",
    "    batches = torch.split(tensor[:num_batches * batch_size], batch_size)\n",
    "    \n",
    "    # 将分割后的 batch 组合成新的 tensor\n",
    "    batch_tensor = torch.stack(batches)\n",
    "    \n",
    "    return batch_tensor"
   ]
  },
  {
   "cell_type": "code",
   "execution_count": 6,
   "id": "1199903c-379b-4f5f-809c-44d8f35c8fe9",
   "metadata": {},
   "outputs": [],
   "source": [
    "# data = data[data['Date'] > '2022-06-01']\n",
    "data['midPrice'] = (data['Feature6'] + data['Feature8']) / 2"
   ]
  },
  {
   "cell_type": "code",
   "execution_count": 7,
   "id": "6b3b358c-808c-4a0d-a118-c71e0603997b",
   "metadata": {},
   "outputs": [],
   "source": [
    "# 定义一个函数来计算未来n天的收益率\n",
    "def calculate_future_returns(df, n, old_name = 'Feature0', new_name = 'Future_Return'):\n",
    "    df[new_name] = df.groupby('Stock')[old_name].transform(lambda x: x.shift(-n) - x)\n",
    "    return df.dropna()"
   ]
  },
  {
   "cell_type": "code",
   "execution_count": 8,
   "id": "bebda752-14b0-411f-96e4-8af20230c122",
   "metadata": {},
   "outputs": [
    {
     "data": {
      "text/html": [
       "<div>\n",
       "<style scoped>\n",
       "    .dataframe tbody tr th:only-of-type {\n",
       "        vertical-align: middle;\n",
       "    }\n",
       "\n",
       "    .dataframe tbody tr th {\n",
       "        vertical-align: top;\n",
       "    }\n",
       "\n",
       "    .dataframe thead th {\n",
       "        text-align: right;\n",
       "    }\n",
       "</style>\n",
       "<table border=\"1\" class=\"dataframe\">\n",
       "  <thead>\n",
       "    <tr style=\"text-align: right;\">\n",
       "      <th></th>\n",
       "      <th>Date</th>\n",
       "      <th>Stock</th>\n",
       "      <th>Feature0</th>\n",
       "      <th>Feature1</th>\n",
       "      <th>Feature2</th>\n",
       "      <th>Feature3</th>\n",
       "      <th>Feature4</th>\n",
       "      <th>Feature5</th>\n",
       "      <th>Feature6</th>\n",
       "      <th>Feature7</th>\n",
       "      <th>Feature8</th>\n",
       "      <th>midPrice</th>\n",
       "    </tr>\n",
       "  </thead>\n",
       "  <tbody>\n",
       "    <tr>\n",
       "      <th>0</th>\n",
       "      <td>2012-01-04</td>\n",
       "      <td>sh000300</td>\n",
       "      <td>1.029251</td>\n",
       "      <td>0.999804</td>\n",
       "      <td>0.000435</td>\n",
       "      <td>2298.750000</td>\n",
       "      <td>1.416968e+07</td>\n",
       "      <td>-0.009727</td>\n",
       "      <td>1.027297</td>\n",
       "      <td>7.894957e+10</td>\n",
       "      <td>1.000000</td>\n",
       "      <td>1.013649</td>\n",
       "    </tr>\n",
       "    <tr>\n",
       "      <th>1</th>\n",
       "      <td>2012-01-04</td>\n",
       "      <td>sh000903</td>\n",
       "      <td>1.026232</td>\n",
       "      <td>0.999768</td>\n",
       "      <td>0.000454</td>\n",
       "      <td>2201.890000</td>\n",
       "      <td>8.247408e+06</td>\n",
       "      <td>-0.009727</td>\n",
       "      <td>1.023416</td>\n",
       "      <td>4.350682e+10</td>\n",
       "      <td>1.000000</td>\n",
       "      <td>1.011708</td>\n",
       "    </tr>\n",
       "    <tr>\n",
       "      <th>2</th>\n",
       "      <td>2012-01-04</td>\n",
       "      <td>sh600006</td>\n",
       "      <td>1.025890</td>\n",
       "      <td>0.996764</td>\n",
       "      <td>0.000000</td>\n",
       "      <td>0.323625</td>\n",
       "      <td>2.823113e+00</td>\n",
       "      <td>-0.009727</td>\n",
       "      <td>1.019418</td>\n",
       "      <td>6.338548e+06</td>\n",
       "      <td>1.000000</td>\n",
       "      <td>1.009709</td>\n",
       "    </tr>\n",
       "    <tr>\n",
       "      <th>3</th>\n",
       "      <td>2012-01-04</td>\n",
       "      <td>sh600007</td>\n",
       "      <td>1.022346</td>\n",
       "      <td>0.998883</td>\n",
       "      <td>0.000000</td>\n",
       "      <td>0.111732</td>\n",
       "      <td>7.221252e+00</td>\n",
       "      <td>-0.009727</td>\n",
       "      <td>1.022346</td>\n",
       "      <td>4.877571e+06</td>\n",
       "      <td>1.000000</td>\n",
       "      <td>1.011173</td>\n",
       "    </tr>\n",
       "    <tr>\n",
       "      <th>4</th>\n",
       "      <td>2012-01-04</td>\n",
       "      <td>sh600009</td>\n",
       "      <td>1.022332</td>\n",
       "      <td>0.995864</td>\n",
       "      <td>0.000000</td>\n",
       "      <td>0.082713</td>\n",
       "      <td>1.025788e+01</td>\n",
       "      <td>-0.009727</td>\n",
       "      <td>1.020678</td>\n",
       "      <td>3.356048e+07</td>\n",
       "      <td>1.000000</td>\n",
       "      <td>1.010339</td>\n",
       "    </tr>\n",
       "    <tr>\n",
       "      <th>...</th>\n",
       "      <td>...</td>\n",
       "      <td>...</td>\n",
       "      <td>...</td>\n",
       "      <td>...</td>\n",
       "      <td>...</td>\n",
       "      <td>...</td>\n",
       "      <td>...</td>\n",
       "      <td>...</td>\n",
       "      <td>...</td>\n",
       "      <td>...</td>\n",
       "      <td>...</td>\n",
       "      <td>...</td>\n",
       "    </tr>\n",
       "    <tr>\n",
       "      <th>1708042</th>\n",
       "      <td>2022-12-30</td>\n",
       "      <td>sz300029</td>\n",
       "      <td>0.646826</td>\n",
       "      <td>0.622101</td>\n",
       "      <td>0.000000</td>\n",
       "      <td>0.079757</td>\n",
       "      <td>7.960000e+00</td>\n",
       "      <td>0.027097</td>\n",
       "      <td>0.632470</td>\n",
       "      <td>4.005062e+07</td>\n",
       "      <td>0.634862</td>\n",
       "      <td>0.633666</td>\n",
       "    </tr>\n",
       "    <tr>\n",
       "      <th>1708043</th>\n",
       "      <td>2022-12-30</td>\n",
       "      <td>sz300093</td>\n",
       "      <td>6.400431</td>\n",
       "      <td>6.209724</td>\n",
       "      <td>0.000000</td>\n",
       "      <td>0.146698</td>\n",
       "      <td>4.284000e+01</td>\n",
       "      <td>-0.001631</td>\n",
       "      <td>6.387228</td>\n",
       "      <td>1.472596e+07</td>\n",
       "      <td>6.284540</td>\n",
       "      <td>6.335884</td>\n",
       "    </tr>\n",
       "    <tr>\n",
       "      <th>1708044</th>\n",
       "      <td>2022-12-30</td>\n",
       "      <td>sz300111</td>\n",
       "      <td>0.601142</td>\n",
       "      <td>0.583197</td>\n",
       "      <td>0.179445</td>\n",
       "      <td>3.260000</td>\n",
       "      <td>0.000000e+00</td>\n",
       "      <td>-0.003058</td>\n",
       "      <td>0.590375</td>\n",
       "      <td>1.750337e+08</td>\n",
       "      <td>0.584992</td>\n",
       "      <td>0.587684</td>\n",
       "    </tr>\n",
       "    <tr>\n",
       "      <th>1708045</th>\n",
       "      <td>2022-12-30</td>\n",
       "      <td>sz300203</td>\n",
       "      <td>2.152766</td>\n",
       "      <td>2.106145</td>\n",
       "      <td>0.000000</td>\n",
       "      <td>0.063002</td>\n",
       "      <td>3.390000e+01</td>\n",
       "      <td>-0.002648</td>\n",
       "      <td>2.141426</td>\n",
       "      <td>3.094160e+07</td>\n",
       "      <td>2.135756</td>\n",
       "      <td>2.138591</td>\n",
       "    </tr>\n",
       "    <tr>\n",
       "      <th>1708046</th>\n",
       "      <td>2022-12-30</td>\n",
       "      <td>sz300280</td>\n",
       "      <td>1.723891</td>\n",
       "      <td>1.657025</td>\n",
       "      <td>0.000000</td>\n",
       "      <td>0.104478</td>\n",
       "      <td>1.636000e+01</td>\n",
       "      <td>0.033481</td>\n",
       "      <td>1.669563</td>\n",
       "      <td>3.531717e+07</td>\n",
       "      <td>1.709264</td>\n",
       "      <td>1.689414</td>\n",
       "    </tr>\n",
       "  </tbody>\n",
       "</table>\n",
       "<p>1708047 rows × 12 columns</p>\n",
       "</div>"
      ],
      "text/plain": [
       "               Date     Stock  Feature0  Feature1  Feature2     Feature3  \\\n",
       "0        2012-01-04  sh000300  1.029251  0.999804  0.000435  2298.750000   \n",
       "1        2012-01-04  sh000903  1.026232  0.999768  0.000454  2201.890000   \n",
       "2        2012-01-04  sh600006  1.025890  0.996764  0.000000     0.323625   \n",
       "3        2012-01-04  sh600007  1.022346  0.998883  0.000000     0.111732   \n",
       "4        2012-01-04  sh600009  1.022332  0.995864  0.000000     0.082713   \n",
       "...             ...       ...       ...       ...       ...          ...   \n",
       "1708042  2022-12-30  sz300029  0.646826  0.622101  0.000000     0.079757   \n",
       "1708043  2022-12-30  sz300093  6.400431  6.209724  0.000000     0.146698   \n",
       "1708044  2022-12-30  sz300111  0.601142  0.583197  0.179445     3.260000   \n",
       "1708045  2022-12-30  sz300203  2.152766  2.106145  0.000000     0.063002   \n",
       "1708046  2022-12-30  sz300280  1.723891  1.657025  0.000000     0.104478   \n",
       "\n",
       "             Feature4  Feature5  Feature6      Feature7  Feature8  midPrice  \n",
       "0        1.416968e+07 -0.009727  1.027297  7.894957e+10  1.000000  1.013649  \n",
       "1        8.247408e+06 -0.009727  1.023416  4.350682e+10  1.000000  1.011708  \n",
       "2        2.823113e+00 -0.009727  1.019418  6.338548e+06  1.000000  1.009709  \n",
       "3        7.221252e+00 -0.009727  1.022346  4.877571e+06  1.000000  1.011173  \n",
       "4        1.025788e+01 -0.009727  1.020678  3.356048e+07  1.000000  1.010339  \n",
       "...               ...       ...       ...           ...       ...       ...  \n",
       "1708042  7.960000e+00  0.027097  0.632470  4.005062e+07  0.634862  0.633666  \n",
       "1708043  4.284000e+01 -0.001631  6.387228  1.472596e+07  6.284540  6.335884  \n",
       "1708044  0.000000e+00 -0.003058  0.590375  1.750337e+08  0.584992  0.587684  \n",
       "1708045  3.390000e+01 -0.002648  2.141426  3.094160e+07  2.135756  2.138591  \n",
       "1708046  1.636000e+01  0.033481  1.669563  3.531717e+07  1.709264  1.689414  \n",
       "\n",
       "[1708047 rows x 12 columns]"
      ]
     },
     "execution_count": 8,
     "metadata": {},
     "output_type": "execute_result"
    }
   ],
   "source": [
    "data"
   ]
  },
  {
   "cell_type": "code",
   "execution_count": 9,
   "id": "35b1f823-17ca-4fa7-94fa-58dc82793c54",
   "metadata": {},
   "outputs": [
    {
     "name": "stderr",
     "output_type": "stream",
     "text": [
      "/tmp/ipykernel_4062/566386304.py:5: SettingWithCopyWarning: \n",
      "A value is trying to be set on a copy of a slice from a DataFrame.\n",
      "Try using .loc[row_indexer,col_indexer] = value instead\n",
      "\n",
      "See the caveats in the documentation: https://pandas.pydata.org/pandas-docs/stable/user_guide/indexing.html#returning-a-view-versus-a-copy\n",
      "  new_return[f'Return_copy_{i+1}'] = new_return['Return']\n"
     ]
    },
    {
     "name": "stdout",
     "output_type": "stream",
     "text": [
      "每列的缺失值数量:\n",
      "Date             0\n",
      "Stock            0\n",
      "Feature0         0\n",
      "Feature1         0\n",
      "Feature2         0\n",
      "Feature3         0\n",
      "Feature4         0\n",
      "Feature5         0\n",
      "Feature6         0\n",
      "Feature7         0\n",
      "Feature8         0\n",
      "midPrice         0\n",
      "Return           0\n",
      "Return_copy_1    0\n",
      "dtype: int64\n",
      "\n",
      "总的缺失值数量:\n",
      "0\n"
     ]
    }
   ],
   "source": [
    "new_return = calculate_future_returns(data, 21, old_name='midPrice', new_name='Return')\n",
    "# 复制的次数\n",
    "n = 1\n",
    "for i in range(n):\n",
    "    new_return[f'Return_copy_{i+1}'] = new_return['Return']\n",
    "# 去除因为计算未来导致的所有包含Nan的行\n",
    "new_return = new_return[new_return['Date'] < '2022-12-20']\n",
    "# 计算每列的缺失值数量\n",
    "missing_values_per_column = new_return.isna().sum()\n",
    "\n",
    "# 计算总的缺失值数量\n",
    "total_missing_values = new_return.isna().sum().sum()\n",
    "\n",
    "print(\"每列的缺失值数量:\")\n",
    "print(missing_values_per_column)\n",
    "print(\"\\n总的缺失值数量:\")\n",
    "print(total_missing_values)"
   ]
  },
  {
   "cell_type": "code",
   "execution_count": 10,
   "id": "58085424-66b2-4990-9090-34d578ededf6",
   "metadata": {},
   "outputs": [
    {
     "name": "stderr",
     "output_type": "stream",
     "text": [
      "Processing dates: 100%|██████████| 2652/2652 [07:07<00:00,  6.21it/s]\n",
      "Processing nested grouped list: 100%|██████████| 2589/2589 [00:00<00:00, 417913.06it/s]\n"
     ]
    }
   ],
   "source": [
    "a = new_return[['Date', 'Stock', 'Feature0', 'Feature1', 'Feature2', 'Feature3', 'Feature4', 'Feature5', 'Feature6', 'Feature7', 'Feature8']]\n",
    "feature_tensors = df_to_tensor(a, batch_size = 2, n = 63)"
   ]
  },
  {
   "cell_type": "code",
   "execution_count": 11,
   "id": "f3c691be-5191-4a83-9c97-6ee71530570e",
   "metadata": {},
   "outputs": [
    {
     "data": {
      "text/plain": [
       "torch.Size([1294, 2, 63, 639, 9])"
      ]
     },
     "execution_count": 11,
     "metadata": {},
     "output_type": "execute_result"
    }
   ],
   "source": [
    "feature_tensors.size()\n",
    "# 这里X\n",
    "# 有多少个batch，batch_size，用了之前三十天的数据，639支股票，9个特征（给定，价格....)"
   ]
  },
  {
   "cell_type": "code",
   "execution_count": 12,
   "id": "dd77eec7-1c16-4cda-80df-1f184f446cd7",
   "metadata": {},
   "outputs": [
    {
     "name": "stderr",
     "output_type": "stream",
     "text": [
      "Processing dates: 100%|██████████| 2652/2652 [07:05<00:00,  6.23it/s]\n",
      "Processing nested grouped list: 100%|██████████| 2651/2651 [00:00<00:00, 1216931.15it/s]\n"
     ]
    }
   ],
   "source": [
    "name_list = ['Return', 'Date', 'Stock']\n",
    "for i in range(n):\n",
    "    name_list.append(f'Return_copy_{i+1}')\n",
    "b = new_return[name_list]\n",
    "stock_returns_tensor = df_to_tensor(b, features = n + 1, batch_size = 2, n = 1)"
   ]
  },
  {
   "cell_type": "code",
   "execution_count": 13,
   "id": "8a5b5875-27d0-46c3-aa41-0b0b4becc5dd",
   "metadata": {},
   "outputs": [
    {
     "data": {
      "text/plain": [
       "torch.Size([1325, 2, 1, 639, 2])"
      ]
     },
     "execution_count": 13,
     "metadata": {},
     "output_type": "execute_result"
    }
   ],
   "source": [
    "stock_returns_tensor.size()\n",
    "# 这部分不太确定理解是不是对的，Y\n",
    "# 有多少个batch，batch_size，现在的这一天（基准），639支股票，9个特征（和训练的因子数量一致）"
   ]
  },
  {
   "cell_type": "code",
   "execution_count": 14,
   "id": "fb24eedd-1731-4fb2-86ad-dd4f81190b1a",
   "metadata": {},
   "outputs": [],
   "source": [
    "import pickle\n",
    "with open('./data.pkl', 'wb') as f:\n",
    "    pickle.dump((feature_tensors, stock_returns_tensor), f)"
   ]
  },
  {
   "cell_type": "code",
   "execution_count": 15,
   "id": "eba7e6e8-9588-4540-806c-91f8518ee705",
   "metadata": {},
   "outputs": [],
   "source": [
    "# 历史数据-》未来的因子-》未来的协方差矩阵"
   ]
  },
  {
   "cell_type": "code",
   "execution_count": null,
   "id": "6d99e12a-075a-4bac-8008-8b6791a177f0",
   "metadata": {},
   "outputs": [],
   "source": []
  },
  {
   "cell_type": "code",
   "execution_count": null,
   "id": "a1248bb4-4b63-4c4c-8343-57ebf86f687d",
   "metadata": {},
   "outputs": [],
   "source": []
  },
  {
   "cell_type": "code",
   "execution_count": null,
   "id": "7dbb788f-d779-483d-a1e1-0379eeb20b53",
   "metadata": {},
   "outputs": [],
   "source": []
  },
  {
   "cell_type": "code",
   "execution_count": null,
   "id": "4e5179c7-b30a-48af-8360-77f180bfdb45",
   "metadata": {},
   "outputs": [],
   "source": []
  },
  {
   "cell_type": "code",
   "execution_count": null,
   "id": "6588e30d-7968-4849-8771-90956db0d74e",
   "metadata": {},
   "outputs": [],
   "source": []
  },
  {
   "cell_type": "code",
   "execution_count": null,
   "id": "4a2adc75-102c-4afd-a074-20bbdfb60b22",
   "metadata": {},
   "outputs": [],
   "source": []
  },
  {
   "cell_type": "code",
   "execution_count": null,
   "id": "2e0d1182-b88e-4fad-8704-3dc4d8e10ef1",
   "metadata": {},
   "outputs": [],
   "source": []
  }
 ],
 "metadata": {
  "kernelspec": {
   "display_name": "Python 3 (ipykernel)",
   "language": "python",
   "name": "python3"
  },
  "language_info": {
   "codemirror_mode": {
    "name": "ipython",
    "version": 3
   },
   "file_extension": ".py",
   "mimetype": "text/x-python",
   "name": "python",
   "nbconvert_exporter": "python",
   "pygments_lexer": "ipython3",
   "version": "3.8.10"
  }
 },
 "nbformat": 4,
 "nbformat_minor": 5
}
